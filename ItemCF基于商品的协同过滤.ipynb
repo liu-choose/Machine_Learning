{
 "cells": [
  {
   "cell_type": "code",
   "execution_count": 2,
   "metadata": {},
   "outputs": [],
   "source": [
    "import numpy as np\n",
    "import pandas as pd\n",
    "import scipy.spatial.distance as ssd"
   ]
  },
  {
   "cell_type": "markdown",
   "metadata": {},
   "source": [
    "### 读训练集，规范化数据 "
   ]
  },
  {
   "cell_type": "code",
   "execution_count": 3,
   "metadata": {},
   "outputs": [
    {
     "data": {
      "text/html": [
       "<div>\n",
       "<style scoped>\n",
       "    .dataframe tbody tr th:only-of-type {\n",
       "        vertical-align: middle;\n",
       "    }\n",
       "\n",
       "    .dataframe tbody tr th {\n",
       "        vertical-align: top;\n",
       "    }\n",
       "\n",
       "    .dataframe thead th {\n",
       "        text-align: right;\n",
       "    }\n",
       "</style>\n",
       "<table border=\"1\" class=\"dataframe\">\n",
       "  <thead>\n",
       "    <tr style=\"text-align: right;\">\n",
       "      <th></th>\n",
       "      <th>user_id</th>\n",
       "      <th>item_id</th>\n",
       "      <th>rating</th>\n",
       "    </tr>\n",
       "  </thead>\n",
       "  <tbody>\n",
       "    <tr>\n",
       "      <th>0</th>\n",
       "      <td>1</td>\n",
       "      <td>1</td>\n",
       "      <td>5</td>\n",
       "    </tr>\n",
       "    <tr>\n",
       "      <th>1</th>\n",
       "      <td>1</td>\n",
       "      <td>2</td>\n",
       "      <td>3</td>\n",
       "    </tr>\n",
       "    <tr>\n",
       "      <th>2</th>\n",
       "      <td>1</td>\n",
       "      <td>3</td>\n",
       "      <td>4</td>\n",
       "    </tr>\n",
       "    <tr>\n",
       "      <th>3</th>\n",
       "      <td>1</td>\n",
       "      <td>4</td>\n",
       "      <td>3</td>\n",
       "    </tr>\n",
       "    <tr>\n",
       "      <th>4</th>\n",
       "      <td>1</td>\n",
       "      <td>5</td>\n",
       "      <td>3</td>\n",
       "    </tr>\n",
       "  </tbody>\n",
       "</table>\n",
       "</div>"
      ],
      "text/plain": [
       "   user_id  item_id  rating\n",
       "0        1        1       5\n",
       "1        1        2       3\n",
       "2        1        3       4\n",
       "3        1        4       3\n",
       "4        1        5       3"
      ]
     },
     "execution_count": 3,
     "metadata": {},
     "output_type": "execute_result"
    }
   ],
   "source": [
    "df_training_data = pd.read_csv(\n",
    "    './data/movielen_rating_training.base',# 数据集地址\n",
    "    names = ['user_id','item_id','rating'],# 起列名\n",
    "    usecols = [0,1,2],# 使用第1,2,3列\n",
    "    sep = '\\t',# 分隔符是\\t\n",
    ")\n",
    "df_training_data.head()"
   ]
  },
  {
   "cell_type": "code",
   "execution_count": 4,
   "metadata": {},
   "outputs": [
    {
     "name": "stdout",
     "output_type": "stream",
     "text": [
      "<class 'pandas.core.frame.DataFrame'>\n",
      "RangeIndex: 80000 entries, 0 to 79999\n",
      "Data columns (total 3 columns):\n",
      "user_id    80000 non-null int64\n",
      "item_id    80000 non-null int64\n",
      "rating     80000 non-null int64\n",
      "dtypes: int64(3)\n",
      "memory usage: 1.8 MB\n"
     ]
    }
   ],
   "source": [
    "df_training_data.info()"
   ]
  },
  {
   "cell_type": "code",
   "execution_count": 6,
   "metadata": {},
   "outputs": [
    {
     "name": "stdout",
     "output_type": "stream",
     "text": [
      "用户数 943\n",
      "商品数 1650\n"
     ]
    }
   ],
   "source": [
    "user_ids = df_training_data['user_id'].unique() # 不重复的user_id\n",
    "item_ids = df_training_data['item_id'].unique() # 不重复的item_id\n",
    "\n",
    "user_quantity = len(user_ids) # 用户的数量\n",
    "item_quantity = len(item_ids) # 商品的数量\n",
    "print('用户数',user_quantity)\n",
    "print('商品数',item_quantity)"
   ]
  },
  {
   "cell_type": "code",
   "execution_count": 7,
   "metadata": {},
   "outputs": [],
   "source": [
    "# 建立id到index与index到id的映射关系\n",
    "user_id_to_index_dict = {}\n",
    "user_index_to_id_dict = {}\n",
    "\n",
    "item_id_to_index_dict = {}\n",
    "item_index_to_id_dict = {}\n",
    "\n",
    "# 枚举遍历所有的user_id\n",
    "for user_index,user_id in enumerate(user_ids):\n",
    "    user_id_to_index_dict[user_id] = user_index\n",
    "    user_index_to_id_dict[user_index] = user_id\n",
    "# 枚举遍历所有的item_id    \n",
    "for item_index,item_id in enumerate(item_ids):\n",
    "    item_id_to_index_dict[item_id] = item_index\n",
    "    item_index_to_id_dict[item_index] = item_id"
   ]
  },
  {
   "cell_type": "code",
   "execution_count": 9,
   "metadata": {},
   "outputs": [],
   "source": [
    "# 把训练集中的user_id都变成user_index\n",
    "df_training_data['user_id'] = df_training_data['user_id'].apply(\n",
    "    lambda user_id:user_id_to_index_dict[user_id]\n",
    ")\n",
    "# 把训练集中的item_id都编程item_index\n",
    "df_training_data['item_id'] = df_training_data['item_id'].apply(\n",
    "    lambda item_id:item_id_to_index_dict[item_id]\n",
    ")"
   ]
  },
  {
   "cell_type": "code",
   "execution_count": 11,
   "metadata": {
    "collapsed": true
   },
   "outputs": [
    {
     "data": {
      "text/html": [
       "<div>\n",
       "<style scoped>\n",
       "    .dataframe tbody tr th:only-of-type {\n",
       "        vertical-align: middle;\n",
       "    }\n",
       "\n",
       "    .dataframe tbody tr th {\n",
       "        vertical-align: top;\n",
       "    }\n",
       "\n",
       "    .dataframe thead th {\n",
       "        text-align: right;\n",
       "    }\n",
       "</style>\n",
       "<table border=\"1\" class=\"dataframe\">\n",
       "  <thead>\n",
       "    <tr style=\"text-align: right;\">\n",
       "      <th></th>\n",
       "      <th>user_index</th>\n",
       "      <th>item_index</th>\n",
       "      <th>rating</th>\n",
       "    </tr>\n",
       "  </thead>\n",
       "  <tbody>\n",
       "    <tr>\n",
       "      <th>0</th>\n",
       "      <td>0</td>\n",
       "      <td>0</td>\n",
       "      <td>5</td>\n",
       "    </tr>\n",
       "    <tr>\n",
       "      <th>1</th>\n",
       "      <td>0</td>\n",
       "      <td>1</td>\n",
       "      <td>3</td>\n",
       "    </tr>\n",
       "    <tr>\n",
       "      <th>2</th>\n",
       "      <td>0</td>\n",
       "      <td>2</td>\n",
       "      <td>4</td>\n",
       "    </tr>\n",
       "    <tr>\n",
       "      <th>3</th>\n",
       "      <td>0</td>\n",
       "      <td>3</td>\n",
       "      <td>3</td>\n",
       "    </tr>\n",
       "    <tr>\n",
       "      <th>4</th>\n",
       "      <td>0</td>\n",
       "      <td>4</td>\n",
       "      <td>3</td>\n",
       "    </tr>\n",
       "  </tbody>\n",
       "</table>\n",
       "</div>"
      ],
      "text/plain": [
       "   user_index  item_index  rating\n",
       "0           0           0       5\n",
       "1           0           1       3\n",
       "2           0           2       4\n",
       "3           0           3       3\n",
       "4           0           4       3"
      ]
     },
     "execution_count": 11,
     "metadata": {},
     "output_type": "execute_result"
    }
   ],
   "source": [
    "# 修改列名\n",
    "df_training_data.columns = ['user_index','item_index','rating']\n",
    "df_training_data.head()"
   ]
  },
  {
   "cell_type": "markdown",
   "metadata": {},
   "source": [
    "### 用户与商品的打分矩阵"
   ]
  },
  {
   "cell_type": "code",
   "execution_count": 13,
   "metadata": {},
   "outputs": [
    {
     "data": {
      "text/plain": [
       "array([[0., 0., 0., ..., 0., 0., 0.],\n",
       "       [0., 0., 0., ..., 0., 0., 0.],\n",
       "       [0., 0., 0., ..., 0., 0., 0.],\n",
       "       ...,\n",
       "       [0., 0., 0., ..., 0., 0., 0.],\n",
       "       [0., 0., 0., ..., 0., 0., 0.],\n",
       "       [0., 0., 0., ..., 0., 0., 0.]])"
      ]
     },
     "execution_count": 13,
     "metadata": {},
     "output_type": "execute_result"
    }
   ],
   "source": [
    "# 初始化一个\n",
    "#     行数=用户个数\n",
    "#     列数=商品个数\n",
    "# 的0矩阵，为用户对商品的打分矩阵\n",
    "# 注意：矩阵的type是浮点数，不是整数\n",
    "user_item_rating_array = np.zeros(\n",
    "    shape = (user_quantity,item_quantity)\n",
    ")\n",
    "user_item_rating_array"
   ]
  },
  {
   "cell_type": "code",
   "execution_count": 17,
   "metadata": {},
   "outputs": [
    {
     "data": {
      "text/plain": [
       "array([[5., 3., 4., ..., 0., 0., 0.],\n",
       "       [4., 0., 0., ..., 0., 0., 0.],\n",
       "       [0., 0., 0., ..., 0., 0., 0.],\n",
       "       ...,\n",
       "       [5., 0., 0., ..., 0., 0., 0.],\n",
       "       [0., 0., 0., ..., 0., 0., 0.],\n",
       "       [0., 5., 0., ..., 0., 0., 0.]])"
      ]
     },
     "execution_count": 17,
     "metadata": {},
     "output_type": "execute_result"
    }
   ],
   "source": [
    "# 对训练集中的user_index进程分组遍历，更新用户物品打分矩阵\n",
    "for user_index,groupby_userindex in df_training_data.groupby('user_index'):\n",
    "    items_rating = groupby_userindex.groupby('item_index')['rating'].mean()\n",
    "    for item_index in items_rating.index:\n",
    "        user_item_rating_array[user_index,item_index] = items_rating[item_index]\n",
    "user_item_rating_array"
   ]
  },
  {
   "cell_type": "markdown",
   "metadata": {},
   "source": [
    "### 商品与商品之间的相似度矩阵"
   ]
  },
  {
   "cell_type": "code",
   "execution_count": 18,
   "metadata": {},
   "outputs": [
    {
     "data": {
      "text/plain": [
       "array([[0., 0., 0., ..., 0., 0., 0.],\n",
       "       [0., 0., 0., ..., 0., 0., 0.],\n",
       "       [0., 0., 0., ..., 0., 0., 0.],\n",
       "       ...,\n",
       "       [0., 0., 0., ..., 0., 0., 0.],\n",
       "       [0., 0., 0., ..., 0., 0., 0.],\n",
       "       [0., 0., 0., ..., 0., 0., 0.]])"
      ]
     },
     "execution_count": 18,
     "metadata": {},
     "output_type": "execute_result"
    }
   ],
   "source": [
    "# 初始化一个商品对商品的相似度矩阵\n",
    "item_sim_array = np.zeros(\n",
    "    shape=(item_quantity,item_quantity)\n",
    ")\n",
    "item_sim_array"
   ]
  },
  {
   "cell_type": "code",
   "execution_count": 20,
   "metadata": {},
   "outputs": [],
   "source": [
    "# 初始化一个字典，记录对item_index打过分的user_index\n",
    "item_rating_users = {}\n",
    "\n",
    "for item_index in range(item_quantity):\n",
    "    item_rating_users[item_index] = np.where(user_item_rating_array[:,item_index] > 0)[0].tolist()"
   ]
  },
  {
   "cell_type": "code",
   "execution_count": 53,
   "metadata": {
    "collapsed": true
   },
   "outputs": [
    {
     "name": "stdout",
     "output_type": "stream",
     "text": [
      "0..1..2..3..4..5..6..7..8..9..10..11..12..13..14..15..16..17..18..19..20..21..22..23..24..25..26..27..28..29..30..31..32..33..34..35..36..37..38..39..40..41..42..43..44..45..46..47..48..49..50..51..52..53..54..55..56..57..58..59..60..61..62..63..64..65..66..67..68..69..70..71..72..73..74..75..76..77..78..79..80..81..82..83..84..85..86..87..88..89..90..91..92..93..94..95..96..97..98..99..100..101..102..103..104..105..106..107..108..109..110..111..112..113..114..115..116..117..118..119..120..121..122..123..124..125..126..127..128..129..130..131..132..133..134..135..136..137..138..139..140..141..142..143..144..145..146..147..148..149..150..151..152..153..154..155..156..157..158..159..160..161..162..163..164..165..166..167..168..169..170..171..172..173..174..175..176..177..178..179..180..181..182..183..184..185..186..187..188..189..190..191..192..193..194..195..196..197..198..199..200..201..202..203..204..205..206..207..208..209..210..211..212..213..214..215..216..217..218..219..220..221..222..223..224..225..226..227..228..229..230..231..232..233..234..235..236..237..238..239..240..241..242..243..244..245..246..247..248..249..250..251..252..253..254..255..256..257..258..259..260..261..262..263..264..265..266..267..268..269..270..271..272..273..274..275..276..277..278..279..280..281..282..283..284..285..286..287..288..289..290..291..292..293..294..295..296..297..298..299..300..301..302..303..304..305..306..307..308..309..310..311..312..313..314..315..316..317..318..319..320..321..322..323..324..325..326..327..328..329..330..331..332..333..334..335..336..337..338..339..340..341..342..343..344..345..346..347..348..349..350..351..352..353..354..355..356..357..358..359..360..361..362..363..364..365..366..367..368..369..370..371..372..373..374..375..376..377..378..379..380..381..382..383..384..385..386..387..388..389..390..391..392..393..394..395..396..397..398..399..400..401..402..403..404..405..406..407..408..409..410..411..412..413..414..415..416..417..418..419..420..421..422..423..424..425..426..427..428..429..430..431..432..433..434..435..436..437..438..439..440..441..442..443..444..445..446..447..448..449..450..451..452..453..454..455..456..457..458..459..460..461..462..463..464..465..466..467..468..469..470..471..472..473..474..475..476..477..478..479..480..481..482..483..484..485..486..487..488..489..490..491..492..493..494..495..496..497..498..499..500..501..502..503..504..505..506..507..508..509..510..511..512..513..514..515..516..517..518..519..520..521..522..523..524..525..526..527..528..529..530..531..532..533..534..535..536..537..538..539..540..541..542..543..544..545..546..547..548..549..550..551..552..553..554..555..556..557..558..559..560..561..562..563..564..565..566..567..568..569..570..571..572..573..574..575..576..577..578..579..580..581..582..583..584..585..586..587..588..589..590..591..592..593..594..595..596..597..598..599..600..601..602..603..604..605..606..607..608..609..610..611..612..613..614..615..616..617..618..619..620..621..622..623..624..625..626..627..628..629..630..631..632..633..634..635..636..637..638..639..640..641..642..643..644..645..646..647..648..649..650..651..652..653..654..655..656..657..658..659..660..661..662..663..664..665..666..667..668..669..670..671..672..673..674..675..676..677..678..679..680..681..682..683..684..685..686..687..688..689..690..691..692..693..694..695..696..697..698..699..700..701..702..703..704..705..706..707..708..709..710..711..712..713..714..715..716..717..718..719..720..721..722..723..724..725..726..727..728..729..730..731..732..733..734..735..736..737..738..739..740..741..742..743..744..745..746..747..748..749..750..751..752..753..754..755..756..757..758..759..760..761..762..763..764..765..766..767..768..769..770..771..772..773..774..775..776..777..778..779..780..781..782..783..784..785..786..787..788..789..790..791..792..793..794..795..796..797..798..799..800..801..802..803..804..805..806..807..808..809..810..811..812..813..814..815..816..817..818..819..820..821..822..823..824..825..826..827..828..829..830..831..832..833..834..835..836..837..838..839..840..841..842..843..844..845..846..847..848..849..850..851..852..853..854..855..856..857..858..859..860..861..862..863..864..865..866..867..868..869..870..871..872..873..874..875..876..877..878..879..880..881..882..883..884..885..886..887..888..889..890..891..892..893..894..895..896..897..898..899..900..901..902..903..904..905..906..907..908..909..910..911..912..913..914..915..916..917..918..919..920..921..922..923..924..925..926..927..928..929..930..931..932..933..934..935..936..937..938..939..940..941..942..943..944..945..946..947..948..949..950..951..952..953..954..955..956..957..958..959..960..961..962..963..964..965..966..967..968..969..970..971..972..973..974..975..976..977..978..979..980..981..982..983..984..985..986..987..988..989..990..991..992..993..994..995..996..997..998..999..1000..1001..1002..1003..1004..1005..1006..1007..1008..1009..1010..1011..1012..1013..1014..1015..1016..1017..1018..1019..1020..1021..1022..1023..1024..1025..1026..1027..1028..1029..1030..1031..1032..1033..1034..1035..1036..1037..1038..1039..1040..1041..1042..1043..1044..1045..1046..1047..1048..1049..1050..1051..1052..1053..1054..1055..1056..1057..1058..1059..1060..1061..1062..1063..1064..1065..1066..1067..1068..1069..1070..1071..1072..1073..1074..1075..1076..1077..1078..1079..1080..1081..1082..1083..1084..1085..1086..1087..1088..1089..1090..1091..1092..1093..1094..1095..1096..1097..1098..1099..1100..1101..1102..1103..1104..1105..1106..1107..1108..1109..1110..1111..1112..1113..1114..1115..1116..1117..1118..1119..1120..1121..1122..1123..1124..1125..1126..1127..1128..1129..1130..1131..1132..1133..1134..1135..1136..1137..1138..1139..1140..1141..1142..1143..1144..1145..1146..1147..1148..1149..1150..1151..1152..1153..1154..1155..1156..1157..1158..1159..1160..1161..1162..1163..1164..1165..1166..1167..1168..1169..1170..1171..1172..1173..1174..1175..1176..1177..1178..1179..1180..1181..1182..1183..1184..1185..1186..1187..1188..1189..1190..1191..1192..1193..1194..1195..1196..1197..1198..1199..1200..1201..1202..1203..1204..1205..1206..1207..1208..1209..1210..1211..1212..1213..1214..1215..1216..1217..1218..1219..1220..1221..1222..1223..1224..1225..1226..1227..1228..1229..1230..1231..1232..1233..1234..1235..1236..1237..1238..1239..1240..1241..1242..1243..1244..1245..1246..1247..1248..1249..1250..1251..1252..1253..1254..1255..1256..1257..1258..1259..1260..1261..1262..1263..1264..1265..1266..1267..1268..1269..1270..1271..1272..1273..1274..1275..1276..1277..1278..1279..1280..1281..1282..1283..1284..1285..1286..1287..1288..1289..1290..1291..1292..1293..1294..1295..1296..1297..1298..1299..1300..1301..1302..1303..1304..1305..1306..1307..1308..1309..1310..1311..1312..1313..1314..1315..1316..1317..1318..1319..1320..1321..1322..1323..1324..1325..1326..1327..1328..1329..1330..1331..1332..1333..1334..1335..1336..1337..1338..1339..1340..1341..1342..1343..1344..1345..1346..1347..1348..1349..1350..1351..1352..1353..1354..1355..1356..1357..1358..1359..1360..1361..1362..1363..1364..1365..1366..1367..1368..1369..1370..1371..1372..1373..1374..1375..1376..1377..1378..1379..1380..1381..1382..1383..1384..1385..1386..1387..1388..1389..1390..1391..1392..1393..1394..1395..1396..1397..1398..1399..1400..1401..1402..1403..1404..1405..1406..1407..1408..1409..1410..1411..1412..1413..1414..1415..1416..1417..1418..1419..1420..1421..1422..1423..1424..1425..1426..1427..1428..1429..1430..1431..1432..1433..1434..1435..1436..1437..1438..1439..1440..1441..1442..1443..1444..1445..1446..1447..1448..1449..1450..1451..1452..1453..1454..1455..1456..1457..1458..1459..1460..1461..1462..1463..1464..1465..1466..1467..1468..1469..1470..1471..1472..1473..1474..1475..1476..1477..1478..1479..1480..1481..1482..1483..1484..1485..1486..1487..1488..1489..1490..1491..1492..1493..1494..1495..1496..1497..1498..1499..1500..1501..1502..1503..1504..1505..1506..1507..1508..1509..1510..1511..1512..1513..1514..1515..1516..1517..1518..1519..1520..1521..1522..1523..1524..1525..1526..1527..1528..1529..1530..1531..1532..1533..1534..1535..1536..1537..1538..1539..1540..1541..1542..1543..1544..1545..1546..1547..1548..1549..1550..1551"
     ]
    },
    {
     "name": "stdout",
     "output_type": "stream",
     "text": [
      "..1552..1553..1554..1555..1556..1557..1558..1559..1560..1561..1562..1563..1564..1565..1566..1567..1568..1569..1570..1571..1572..1573..1574..1575..1576..1577..1578..1579..1580..1581..1582..1583..1584..1585..1586..1587..1588..1589..1590..1591..1592..1593..1594..1595..1596..1597..1598..1599..1600..1601..1602..1603..1604..1605..1606..1607..1608..1609..1610..1611..1612..1613..1614..1615..1616..1617..1618..1619..1620..1621..1622..1623..1624..1625..1626..1627..1628..1629..1630..1631..1632..1633..1634..1635..1636..1637..1638..1639..1640..1641..1642..1643..1644..1645..1646..1647..1648..1649.."
     ]
    }
   ],
   "source": [
    "for item_index1 in range(item_quantity):\n",
    "    item_index1_rating_user_set = set(\n",
    "        item_rating_users[item_index1]\n",
    "    )\n",
    "    for item_index2 in range(item_index1+1,item_quantity):\n",
    "        item_index2_rating_user_set = set(\n",
    "            item_rating_users[item_index2]\n",
    "        )\n",
    "        # 两个商品的公共用户索引\n",
    "        union_users = list(\n",
    "            item_index1_rating_user_set & item_index2_rating_user_set\n",
    "        )\n",
    "        if not union_users:sim = 0\n",
    "        else:\n",
    "            # 公共用户数\n",
    "            n = len(union_users)\n",
    "            # 商品1的打分向量\n",
    "            v1 = user_item_rating_array[union_users,item_index1]\n",
    "            # 商品2的打分向量\n",
    "            v2 = user_item_rating_array[union_users,item_index2]\n",
    "            sim = 1 - ssd.cosine(v1,v2)\n",
    "            sim = sim * (n / (1 + np.log(1 +n ))) # 对公共用户的多少进行奖励\n",
    "            if np.isnan(sim):sim=0\n",
    "        item_sim_array[item_index1,item_index2] = sim\n",
    "        item_sim_array[item_index2,item_index1] = sim\n",
    "    print(item_index1,end='..') "
   ]
  },
  {
   "cell_type": "code",
   "execution_count": 59,
   "metadata": {},
   "outputs": [],
   "source": [
    "# 归一化，每一行都除以这一行中的最大值\n",
    "item_sim_array = item_sim_array / np.array([item_sim_array.max(axis=0)]).T"
   ]
  },
  {
   "cell_type": "code",
   "execution_count": 60,
   "metadata": {},
   "outputs": [],
   "source": [
    "# 保存3个小数位\n",
    "item_sim_array = np.around(item_sim_array,3)"
   ]
  },
  {
   "cell_type": "code",
   "execution_count": 61,
   "metadata": {},
   "outputs": [
    {
     "data": {
      "text/plain": [
       "array([[0.   , 0.326, 0.265, ..., 0.   , 0.015, 0.015],\n",
       "       [0.846, 0.   , 0.303, ..., 0.   , 0.038, 0.038],\n",
       "       [0.98 , 0.431, 0.   , ..., 0.   , 0.   , 0.054],\n",
       "       ...,\n",
       "       [0.   , 0.   , 0.   , ..., 0.   , 0.   , 0.   ],\n",
       "       [1.   , 1.   , 0.   , ..., 0.   , 0.   , 0.   ],\n",
       "       [1.   , 1.   , 1.   , ..., 0.   , 0.   , 0.   ]])"
      ]
     },
     "execution_count": 61,
     "metadata": {},
     "output_type": "execute_result"
    }
   ],
   "source": [
    "item_sim_array"
   ]
  },
  {
   "cell_type": "markdown",
   "metadata": {},
   "source": [
    "### 为用户生成推荐"
   ]
  },
  {
   "cell_type": "code",
   "execution_count": 62,
   "metadata": {},
   "outputs": [],
   "source": [
    "user_recommend = {}\n",
    "\n",
    "for user_index in range(user_quantity):\n",
    "    # 用户喜欢的\n",
    "    this_user_fav_items = np.where(\n",
    "        user_item_rating_array[user_index] >= 4\n",
    "    )[0].tolist()\n",
    "    # 用户打过分的\n",
    "    this_user_rated_items = np.where(\n",
    "        user_item_rating_array[user_index] > 0\n",
    "    )[0].tolist()\n",
    "    # 包括用户已经看过的商品推荐\n",
    "    recommend1 = np.where(\n",
    "        (item_sim_array[this_user_fav_items] >= 0.8).astype(int).sum(axis=0) > 0 \n",
    "    )[0].tolist()\n",
    "    user_recommend[user_index] = list(set(recommend1) - set(this_user_rated_items))"
   ]
  },
  {
   "cell_type": "markdown",
   "metadata": {},
   "source": [
    "### 读测试集，并验证"
   ]
  },
  {
   "cell_type": "code",
   "execution_count": 63,
   "metadata": {},
   "outputs": [
    {
     "data": {
      "text/html": [
       "<div>\n",
       "<style scoped>\n",
       "    .dataframe tbody tr th:only-of-type {\n",
       "        vertical-align: middle;\n",
       "    }\n",
       "\n",
       "    .dataframe tbody tr th {\n",
       "        vertical-align: top;\n",
       "    }\n",
       "\n",
       "    .dataframe thead th {\n",
       "        text-align: right;\n",
       "    }\n",
       "</style>\n",
       "<table border=\"1\" class=\"dataframe\">\n",
       "  <thead>\n",
       "    <tr style=\"text-align: right;\">\n",
       "      <th></th>\n",
       "      <th>user_id</th>\n",
       "      <th>item_id</th>\n",
       "      <th>rating</th>\n",
       "    </tr>\n",
       "  </thead>\n",
       "  <tbody>\n",
       "    <tr>\n",
       "      <th>0</th>\n",
       "      <td>1</td>\n",
       "      <td>6</td>\n",
       "      <td>5</td>\n",
       "    </tr>\n",
       "    <tr>\n",
       "      <th>1</th>\n",
       "      <td>1</td>\n",
       "      <td>10</td>\n",
       "      <td>3</td>\n",
       "    </tr>\n",
       "    <tr>\n",
       "      <th>2</th>\n",
       "      <td>1</td>\n",
       "      <td>12</td>\n",
       "      <td>5</td>\n",
       "    </tr>\n",
       "    <tr>\n",
       "      <th>3</th>\n",
       "      <td>1</td>\n",
       "      <td>14</td>\n",
       "      <td>5</td>\n",
       "    </tr>\n",
       "    <tr>\n",
       "      <th>4</th>\n",
       "      <td>1</td>\n",
       "      <td>17</td>\n",
       "      <td>3</td>\n",
       "    </tr>\n",
       "  </tbody>\n",
       "</table>\n",
       "</div>"
      ],
      "text/plain": [
       "   user_id  item_id  rating\n",
       "0        1        6       5\n",
       "1        1       10       3\n",
       "2        1       12       5\n",
       "3        1       14       5\n",
       "4        1       17       3"
      ]
     },
     "execution_count": 63,
     "metadata": {},
     "output_type": "execute_result"
    }
   ],
   "source": [
    "df_text_data = pd.read_csv(\n",
    "    './data/movielen_rating_test.base',\n",
    "    sep='\\t',\n",
    "    names=['user_id','item_id','rating'],\n",
    "    usecols=[0,1,2]\n",
    ")\n",
    "df_text_data.head()"
   ]
  },
  {
   "cell_type": "code",
   "execution_count": 64,
   "metadata": {},
   "outputs": [
    {
     "name": "stdout",
     "output_type": "stream",
     "text": [
      "<class 'pandas.core.frame.DataFrame'>\n",
      "RangeIndex: 20000 entries, 0 to 19999\n",
      "Data columns (total 3 columns):\n",
      "user_id    20000 non-null int64\n",
      "item_id    20000 non-null int64\n",
      "rating     20000 non-null int64\n",
      "dtypes: int64(3)\n",
      "memory usage: 468.8 KB\n"
     ]
    }
   ],
   "source": [
    "df_text_data.info()"
   ]
  },
  {
   "cell_type": "code",
   "execution_count": 65,
   "metadata": {},
   "outputs": [],
   "source": [
    "# 删除没有在训练集中出现的用户id\n",
    "df_text_data = df_text_data[\n",
    "    df_text_data['user_id'].isin(user_ids)\n",
    "]"
   ]
  },
  {
   "cell_type": "code",
   "execution_count": 66,
   "metadata": {},
   "outputs": [],
   "source": [
    "# 删除没有在训练集中出现的商品id\n",
    "df_text_data = df_text_data[\n",
    "    df_text_data['item_id'].isin(item_ids)\n",
    "]"
   ]
  },
  {
   "cell_type": "code",
   "execution_count": 67,
   "metadata": {},
   "outputs": [],
   "source": [
    "# id转index\n",
    "df_text_data['user_id'] = df_text_data['user_id'].apply(\n",
    "    lambda user_id:user_id_to_index_dict[user_id]\n",
    ")\n",
    "\n",
    "df_text_data['item_id'] = df_text_data['item_id'].apply(\n",
    "    lambda item_id:item_id_to_index_dict[item_id]\n",
    ")\n"
   ]
  },
  {
   "cell_type": "code",
   "execution_count": 68,
   "metadata": {},
   "outputs": [
    {
     "data": {
      "text/html": [
       "<div>\n",
       "<style scoped>\n",
       "    .dataframe tbody tr th:only-of-type {\n",
       "        vertical-align: middle;\n",
       "    }\n",
       "\n",
       "    .dataframe tbody tr th {\n",
       "        vertical-align: top;\n",
       "    }\n",
       "\n",
       "    .dataframe thead th {\n",
       "        text-align: right;\n",
       "    }\n",
       "</style>\n",
       "<table border=\"1\" class=\"dataframe\">\n",
       "  <thead>\n",
       "    <tr style=\"text-align: right;\">\n",
       "      <th></th>\n",
       "      <th>user_index</th>\n",
       "      <th>item_index</th>\n",
       "      <th>rating</th>\n",
       "    </tr>\n",
       "  </thead>\n",
       "  <tbody>\n",
       "    <tr>\n",
       "      <th>0</th>\n",
       "      <td>0</td>\n",
       "      <td>745</td>\n",
       "      <td>5</td>\n",
       "    </tr>\n",
       "    <tr>\n",
       "      <th>1</th>\n",
       "      <td>0</td>\n",
       "      <td>135</td>\n",
       "      <td>3</td>\n",
       "    </tr>\n",
       "    <tr>\n",
       "      <th>2</th>\n",
       "      <td>0</td>\n",
       "      <td>269</td>\n",
       "      <td>5</td>\n",
       "    </tr>\n",
       "    <tr>\n",
       "      <th>3</th>\n",
       "      <td>0</td>\n",
       "      <td>136</td>\n",
       "      <td>5</td>\n",
       "    </tr>\n",
       "    <tr>\n",
       "      <th>4</th>\n",
       "      <td>0</td>\n",
       "      <td>538</td>\n",
       "      <td>3</td>\n",
       "    </tr>\n",
       "  </tbody>\n",
       "</table>\n",
       "</div>"
      ],
      "text/plain": [
       "   user_index  item_index  rating\n",
       "0           0         745       5\n",
       "1           0         135       3\n",
       "2           0         269       5\n",
       "3           0         136       5\n",
       "4           0         538       3"
      ]
     },
     "execution_count": 68,
     "metadata": {},
     "output_type": "execute_result"
    }
   ],
   "source": [
    "# 变更列名\n",
    "df_text_data.columns = ['user_index','item_index','rating']\n",
    "df_text_data.head()"
   ]
  },
  {
   "cell_type": "code",
   "execution_count": 69,
   "metadata": {},
   "outputs": [],
   "source": [
    "# 生成推荐\n",
    "user_fav = {}\n",
    "\n",
    "for user_index,groupby_userindex in df_text_data.groupby('user_index'):\n",
    "    items_rating = groupby_userindex.groupby('item_index')['rating'].mean()\n",
    "    user_fav[user_index] = items_rating[items_rating>=4].index.tolist()"
   ]
  },
  {
   "cell_type": "code",
   "execution_count": 70,
   "metadata": {},
   "outputs": [
    {
     "name": "stdout",
     "output_type": "stream",
     "text": [
      "准确率 0.22174421323357493\n",
      "召回率 0.422374632582168\n"
     ]
    }
   ],
   "source": [
    "recommend_quantity = 0\n",
    "fav_quantity = 0\n",
    "union_quantity = 0\n",
    "\n",
    "for user_index in user_recommend.keys():\n",
    "    if user_index in user_fav.keys():\n",
    "        recommend_quantity += len(user_recommend[user_index])\n",
    "        fav_quantity += len(user_fav[user_index])\n",
    "        union_quantity += len(\n",
    "            set(user_recommend[user_index]) & set(user_fav[user_index])\n",
    "        )\n",
    "print('准确率',union_quantity / recommend_quantity)\n",
    "print('召回率',union_quantity / fav_quantity)"
   ]
  }
 ],
 "metadata": {
  "kernelspec": {
   "display_name": "Python 3",
   "language": "python",
   "name": "python3"
  },
  "language_info": {
   "codemirror_mode": {
    "name": "ipython",
    "version": 3
   },
   "file_extension": ".py",
   "mimetype": "text/x-python",
   "name": "python",
   "nbconvert_exporter": "python",
   "pygments_lexer": "ipython3",
   "version": "3.7.3"
  }
 },
 "nbformat": 4,
 "nbformat_minor": 2
}
